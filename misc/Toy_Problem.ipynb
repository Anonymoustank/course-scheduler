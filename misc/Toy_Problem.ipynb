{
  "nbformat": 4,
  "nbformat_minor": 0,
  "metadata": {
    "colab": {
      "name": "Toy Problem",
      "provenance": [],
      "collapsed_sections": []
    },
    "kernelspec": {
      "name": "python3",
      "display_name": "Python 3"
    }
  },
  "cells": [
    {
      "cell_type": "code",
      "metadata": {
        "id": "i7pGlf872WWX",
        "colab_type": "code",
        "colab": {
          "base_uri": "https://localhost:8080/",
          "height": 34
        },
        "outputId": "e49ec628-f1d3-47e7-acaf-37e20bb29250"
      },
      "source": [
        "!pip install -q pulp"
      ],
      "execution_count": null,
      "outputs": [
        {
          "output_type": "stream",
          "text": [
            "\u001b[K     |████████████████████████████████| 40.6MB 102kB/s \n",
            "\u001b[?25h"
          ],
          "name": "stdout"
        }
      ]
    },
    {
      "cell_type": "code",
      "metadata": {
        "id": "8NaChcnk2oBk",
        "colab_type": "code",
        "colab": {}
      },
      "source": [
        "from pulp import LpProblem, LpAffineExpression, LpVariable, LpStatus, LpMinimize, value\n",
        "import numpy as np\n",
        "\n",
        "import copy\n",
        "import random"
      ],
      "execution_count": null,
      "outputs": []
    },
    {
      "cell_type": "code",
      "metadata": {
        "id": "SVqRZUaP3bYH",
        "colab_type": "code",
        "colab": {}
      },
      "source": [
        "# define parameters\n",
        "periods = 8\n",
        "num_students = 2200\n",
        "num_teachers = 80\n",
        "all_courses = list(range(172)) # number of courses offered here"
      ],
      "execution_count": null,
      "outputs": []
    },
    {
      "cell_type": "code",
      "metadata": {
        "id": "l9tTDTMtGRG6",
        "colab_type": "code",
        "colab": {}
      },
      "source": [
        "def shuffled(input_list):\n",
        "  copied_list = copy.deepcopy(input_list)\n",
        "  random.shuffle(copied_list)\n",
        "  return copied_list"
      ],
      "execution_count": null,
      "outputs": []
    },
    {
      "cell_type": "code",
      "metadata": {
        "id": "IfbHnXS425Ld",
        "colab_type": "code",
        "colab": {}
      },
      "source": [
        "# define problem\n",
        "problem = LpProblem(\"Toy_Example\", LpMinimize)"
      ],
      "execution_count": null,
      "outputs": []
    },
    {
      "cell_type": "code",
      "metadata": {
        "id": "g1P56fP13QqE",
        "colab_type": "code",
        "colab": {}
      },
      "source": [
        "# define requests and qualification lists\n",
        "\"\"\"student_requests = [\n",
        "                    [0, 1, 3],\n",
        "                    [0, 2, 3],\n",
        "                    [0, 2, 4],\n",
        "                    [1, 3, 4],\n",
        "                    [0, 1, 2],\n",
        "                    [1, 2, 3]\n",
        "]\n",
        "\n",
        "teacher_qualifs = [\n",
        "                    [0, 1, 3],\n",
        "                    [0, 2, 4],\n",
        "                    [1, 2, 3]\n",
        "]\"\"\"\n",
        "student_requests = [ shuffled(all_courses)[:periods] for i in range(num_students) ]\n",
        "teacher_qualifs = [ shuffled(all_courses)[:periods] for i in range(num_teachers) ]\n",
        "\n",
        "\n",
        "# turn them into vectors\n",
        "student_request_vectors = [list(map(lambda i: 1 if i in prefs else 0, all_courses)) for student, prefs in enumerate(student_requests)]\n",
        "teacher_qualification_vectors = [list(map(lambda i: 1 if i in quals else 0, all_courses)) for teacher, quals in enumerate(teacher_qualifs)]"
      ],
      "execution_count": null,
      "outputs": []
    },
    {
      "cell_type": "code",
      "metadata": {
        "id": "sM2bIJEd-GVn",
        "colab_type": "code",
        "colab": {
          "base_uri": "https://localhost:8080/",
          "height": 359
        },
        "outputId": "6288eb15-fb03-4c41-8c75-38d7c5e8c171"
      },
      "source": [
        "# initialize schedules (periods by courses)\n",
        "blank_schedule = [ [ None for c in all_courses ] for p in range(periods) ]\n",
        "\n",
        "def variables_added(schedule, prefix):\n",
        "  for p, period_array in enumerate(schedule):\n",
        "    for c, _ in enumerate(period_array):\n",
        "      schedule[p][c] = LpVariable(f\"{prefix}_Course_{c}_at_{p}\", lowBound = 0, upBound = 1, cat=\"Integer\")\n",
        "  return schedule\n",
        "\n",
        "# may be unclear: the list passed to the enumerate only matters for indexing. Thus `student_requests_vectors` could be used instead of \n",
        "# `student_requests`\n",
        "student_schedules = np.array([ variables_added(copy.deepcopy(blank_schedule), f\"Student_{student}\") for student, _ in enumerate(student_requests) ])\n",
        "teacher_schedules = np.array([ variables_added(copy.deepcopy(blank_schedule), f\"Teacher_{teacher}\") for teacher, _ in enumerate(teacher_qualifs) ])"
      ],
      "execution_count": null,
      "outputs": [
        {
          "output_type": "error",
          "ename": "KeyboardInterrupt",
          "evalue": "ignored",
          "traceback": [
            "\u001b[0;31m---------------------------------------------------------------------------\u001b[0m",
            "\u001b[0;31mKeyboardInterrupt\u001b[0m                         Traceback (most recent call last)",
            "\u001b[0;32m<ipython-input-9-3c1d5d792d81>\u001b[0m in \u001b[0;36m<module>\u001b[0;34m()\u001b[0m\n\u001b[1;32m     10\u001b[0m \u001b[0;31m# may be unclear: the list passed to the enumerate only matters for indexing. Thus `student_requests_vectors` could be used instead of\u001b[0m\u001b[0;34m\u001b[0m\u001b[0;34m\u001b[0m\u001b[0;34m\u001b[0m\u001b[0m\n\u001b[1;32m     11\u001b[0m \u001b[0;31m# `student_requests`\u001b[0m\u001b[0;34m\u001b[0m\u001b[0;34m\u001b[0m\u001b[0;34m\u001b[0m\u001b[0m\n\u001b[0;32m---> 12\u001b[0;31m \u001b[0mstudent_schedules\u001b[0m \u001b[0;34m=\u001b[0m \u001b[0mnp\u001b[0m\u001b[0;34m.\u001b[0m\u001b[0marray\u001b[0m\u001b[0;34m(\u001b[0m\u001b[0;34m[\u001b[0m \u001b[0mvariables_added\u001b[0m\u001b[0;34m(\u001b[0m\u001b[0mcopy\u001b[0m\u001b[0;34m.\u001b[0m\u001b[0mdeepcopy\u001b[0m\u001b[0;34m(\u001b[0m\u001b[0mblank_schedule\u001b[0m\u001b[0;34m)\u001b[0m\u001b[0;34m,\u001b[0m \u001b[0;34mf\"Student_{student}\"\u001b[0m\u001b[0;34m)\u001b[0m \u001b[0;32mfor\u001b[0m \u001b[0mstudent\u001b[0m\u001b[0;34m,\u001b[0m \u001b[0m_\u001b[0m \u001b[0;32min\u001b[0m \u001b[0menumerate\u001b[0m\u001b[0;34m(\u001b[0m\u001b[0mstudent_requests\u001b[0m\u001b[0;34m)\u001b[0m \u001b[0;34m]\u001b[0m\u001b[0;34m)\u001b[0m\u001b[0;34m\u001b[0m\u001b[0;34m\u001b[0m\u001b[0m\n\u001b[0m\u001b[1;32m     13\u001b[0m \u001b[0mteacher_schedules\u001b[0m \u001b[0;34m=\u001b[0m \u001b[0mnp\u001b[0m\u001b[0;34m.\u001b[0m\u001b[0marray\u001b[0m\u001b[0;34m(\u001b[0m\u001b[0;34m[\u001b[0m \u001b[0mvariables_added\u001b[0m\u001b[0;34m(\u001b[0m\u001b[0mcopy\u001b[0m\u001b[0;34m.\u001b[0m\u001b[0mdeepcopy\u001b[0m\u001b[0;34m(\u001b[0m\u001b[0mblank_schedule\u001b[0m\u001b[0;34m)\u001b[0m\u001b[0;34m,\u001b[0m \u001b[0;34mf\"Teacher_{teacher}\"\u001b[0m\u001b[0;34m)\u001b[0m \u001b[0;32mfor\u001b[0m \u001b[0mteacher\u001b[0m\u001b[0;34m,\u001b[0m \u001b[0m_\u001b[0m \u001b[0;32min\u001b[0m \u001b[0menumerate\u001b[0m\u001b[0;34m(\u001b[0m\u001b[0mteacher_qualifs\u001b[0m\u001b[0;34m)\u001b[0m \u001b[0;34m]\u001b[0m\u001b[0;34m)\u001b[0m\u001b[0;34m\u001b[0m\u001b[0;34m\u001b[0m\u001b[0m\n",
            "\u001b[0;32m<ipython-input-9-3c1d5d792d81>\u001b[0m in \u001b[0;36m<listcomp>\u001b[0;34m(.0)\u001b[0m\n\u001b[1;32m     10\u001b[0m \u001b[0;31m# may be unclear: the list passed to the enumerate only matters for indexing. Thus `student_requests_vectors` could be used instead of\u001b[0m\u001b[0;34m\u001b[0m\u001b[0;34m\u001b[0m\u001b[0;34m\u001b[0m\u001b[0m\n\u001b[1;32m     11\u001b[0m \u001b[0;31m# `student_requests`\u001b[0m\u001b[0;34m\u001b[0m\u001b[0;34m\u001b[0m\u001b[0;34m\u001b[0m\u001b[0m\n\u001b[0;32m---> 12\u001b[0;31m \u001b[0mstudent_schedules\u001b[0m \u001b[0;34m=\u001b[0m \u001b[0mnp\u001b[0m\u001b[0;34m.\u001b[0m\u001b[0marray\u001b[0m\u001b[0;34m(\u001b[0m\u001b[0;34m[\u001b[0m \u001b[0mvariables_added\u001b[0m\u001b[0;34m(\u001b[0m\u001b[0mcopy\u001b[0m\u001b[0;34m.\u001b[0m\u001b[0mdeepcopy\u001b[0m\u001b[0;34m(\u001b[0m\u001b[0mblank_schedule\u001b[0m\u001b[0;34m)\u001b[0m\u001b[0;34m,\u001b[0m \u001b[0;34mf\"Student_{student}\"\u001b[0m\u001b[0;34m)\u001b[0m \u001b[0;32mfor\u001b[0m \u001b[0mstudent\u001b[0m\u001b[0;34m,\u001b[0m \u001b[0m_\u001b[0m \u001b[0;32min\u001b[0m \u001b[0menumerate\u001b[0m\u001b[0;34m(\u001b[0m\u001b[0mstudent_requests\u001b[0m\u001b[0;34m)\u001b[0m \u001b[0;34m]\u001b[0m\u001b[0;34m)\u001b[0m\u001b[0;34m\u001b[0m\u001b[0;34m\u001b[0m\u001b[0m\n\u001b[0m\u001b[1;32m     13\u001b[0m \u001b[0mteacher_schedules\u001b[0m \u001b[0;34m=\u001b[0m \u001b[0mnp\u001b[0m\u001b[0;34m.\u001b[0m\u001b[0marray\u001b[0m\u001b[0;34m(\u001b[0m\u001b[0;34m[\u001b[0m \u001b[0mvariables_added\u001b[0m\u001b[0;34m(\u001b[0m\u001b[0mcopy\u001b[0m\u001b[0;34m.\u001b[0m\u001b[0mdeepcopy\u001b[0m\u001b[0;34m(\u001b[0m\u001b[0mblank_schedule\u001b[0m\u001b[0;34m)\u001b[0m\u001b[0;34m,\u001b[0m \u001b[0;34mf\"Teacher_{teacher}\"\u001b[0m\u001b[0;34m)\u001b[0m \u001b[0;32mfor\u001b[0m \u001b[0mteacher\u001b[0m\u001b[0;34m,\u001b[0m \u001b[0m_\u001b[0m \u001b[0;32min\u001b[0m \u001b[0menumerate\u001b[0m\u001b[0;34m(\u001b[0m\u001b[0mteacher_qualifs\u001b[0m\u001b[0;34m)\u001b[0m \u001b[0;34m]\u001b[0m\u001b[0;34m)\u001b[0m\u001b[0;34m\u001b[0m\u001b[0;34m\u001b[0m\u001b[0m\n",
            "\u001b[0;32m<ipython-input-9-3c1d5d792d81>\u001b[0m in \u001b[0;36mvariables_added\u001b[0;34m(schedule, prefix)\u001b[0m\n\u001b[1;32m      5\u001b[0m   \u001b[0;32mfor\u001b[0m \u001b[0mp\u001b[0m\u001b[0;34m,\u001b[0m \u001b[0mperiod_array\u001b[0m \u001b[0;32min\u001b[0m \u001b[0menumerate\u001b[0m\u001b[0;34m(\u001b[0m\u001b[0mschedule\u001b[0m\u001b[0;34m)\u001b[0m\u001b[0;34m:\u001b[0m\u001b[0;34m\u001b[0m\u001b[0;34m\u001b[0m\u001b[0m\n\u001b[1;32m      6\u001b[0m     \u001b[0;32mfor\u001b[0m \u001b[0mc\u001b[0m\u001b[0;34m,\u001b[0m \u001b[0m_\u001b[0m \u001b[0;32min\u001b[0m \u001b[0menumerate\u001b[0m\u001b[0;34m(\u001b[0m\u001b[0mperiod_array\u001b[0m\u001b[0;34m)\u001b[0m\u001b[0;34m:\u001b[0m\u001b[0;34m\u001b[0m\u001b[0;34m\u001b[0m\u001b[0m\n\u001b[0;32m----> 7\u001b[0;31m       \u001b[0mschedule\u001b[0m\u001b[0;34m[\u001b[0m\u001b[0mp\u001b[0m\u001b[0;34m]\u001b[0m\u001b[0;34m[\u001b[0m\u001b[0mc\u001b[0m\u001b[0;34m]\u001b[0m \u001b[0;34m=\u001b[0m \u001b[0mLpVariable\u001b[0m\u001b[0;34m(\u001b[0m\u001b[0;34mf\"{prefix}_Course_{c}_at_{p}\"\u001b[0m\u001b[0;34m,\u001b[0m \u001b[0mlowBound\u001b[0m \u001b[0;34m=\u001b[0m \u001b[0;36m0\u001b[0m\u001b[0;34m,\u001b[0m \u001b[0mupBound\u001b[0m \u001b[0;34m=\u001b[0m \u001b[0;36m1\u001b[0m\u001b[0;34m,\u001b[0m \u001b[0mcat\u001b[0m\u001b[0;34m=\u001b[0m\u001b[0;34m\"Integer\"\u001b[0m\u001b[0;34m)\u001b[0m\u001b[0;34m\u001b[0m\u001b[0;34m\u001b[0m\u001b[0m\n\u001b[0m\u001b[1;32m      8\u001b[0m   \u001b[0;32mreturn\u001b[0m \u001b[0mschedule\u001b[0m\u001b[0;34m\u001b[0m\u001b[0;34m\u001b[0m\u001b[0m\n\u001b[1;32m      9\u001b[0m \u001b[0;34m\u001b[0m\u001b[0m\n",
            "\u001b[0;32m/usr/local/lib/python3.6/dist-packages/pulp/pulp.py\u001b[0m in \u001b[0;36m__init__\u001b[0;34m(self, name, lowBound, upBound, cat, e)\u001b[0m\n\u001b[1;32m    232\u001b[0m     def __init__(self, name, lowBound = None, upBound = None,\n\u001b[1;32m    233\u001b[0m                   cat = const.LpContinuous, e = None):\n\u001b[0;32m--> 234\u001b[0;31m         \u001b[0mLpElement\u001b[0m\u001b[0;34m.\u001b[0m\u001b[0m__init__\u001b[0m\u001b[0;34m(\u001b[0m\u001b[0mself\u001b[0m\u001b[0;34m,\u001b[0m\u001b[0mname\u001b[0m\u001b[0;34m)\u001b[0m\u001b[0;34m\u001b[0m\u001b[0;34m\u001b[0m\u001b[0m\n\u001b[0m\u001b[1;32m    235\u001b[0m         \u001b[0mself\u001b[0m\u001b[0;34m.\u001b[0m\u001b[0mlowBound\u001b[0m \u001b[0;34m=\u001b[0m \u001b[0mlowBound\u001b[0m\u001b[0;34m\u001b[0m\u001b[0;34m\u001b[0m\u001b[0m\n\u001b[1;32m    236\u001b[0m         \u001b[0mself\u001b[0m\u001b[0;34m.\u001b[0m\u001b[0mupBound\u001b[0m \u001b[0;34m=\u001b[0m \u001b[0mupBound\u001b[0m\u001b[0;34m\u001b[0m\u001b[0;34m\u001b[0m\u001b[0m\n",
            "\u001b[0;32m/usr/local/lib/python3.6/dist-packages/pulp/pulp.py\u001b[0m in \u001b[0;36m__init__\u001b[0;34m(self, name)\u001b[0m\n\u001b[1;32m    148\u001b[0m \u001b[0;34m\u001b[0m\u001b[0m\n\u001b[1;32m    149\u001b[0m     \u001b[0;32mdef\u001b[0m \u001b[0m__init__\u001b[0m\u001b[0;34m(\u001b[0m\u001b[0mself\u001b[0m\u001b[0;34m,\u001b[0m \u001b[0mname\u001b[0m\u001b[0;34m)\u001b[0m\u001b[0;34m:\u001b[0m\u001b[0;34m\u001b[0m\u001b[0;34m\u001b[0m\u001b[0m\n\u001b[0;32m--> 150\u001b[0;31m         \u001b[0mself\u001b[0m\u001b[0;34m.\u001b[0m\u001b[0mname\u001b[0m \u001b[0;34m=\u001b[0m \u001b[0mname\u001b[0m\u001b[0;34m\u001b[0m\u001b[0;34m\u001b[0m\u001b[0m\n\u001b[0m\u001b[1;32m    151\u001b[0m          \u001b[0;31m# self.hash MUST be different for each variable\u001b[0m\u001b[0;34m\u001b[0m\u001b[0;34m\u001b[0m\u001b[0;34m\u001b[0m\u001b[0m\n\u001b[1;32m    152\u001b[0m         \u001b[0;31m# else dict() will call the comparison operators that are overloaded\u001b[0m\u001b[0;34m\u001b[0m\u001b[0;34m\u001b[0m\u001b[0;34m\u001b[0m\u001b[0m\n",
            "\u001b[0;32m/usr/local/lib/python3.6/dist-packages/pulp/pulp.py\u001b[0m in \u001b[0;36msetName\u001b[0;34m(self, name)\u001b[0m\n\u001b[1;32m    140\u001b[0m     \u001b[0;32mdef\u001b[0m \u001b[0msetName\u001b[0m\u001b[0;34m(\u001b[0m\u001b[0mself\u001b[0m\u001b[0;34m,\u001b[0m\u001b[0mname\u001b[0m\u001b[0;34m)\u001b[0m\u001b[0;34m:\u001b[0m\u001b[0;34m\u001b[0m\u001b[0;34m\u001b[0m\u001b[0m\n\u001b[1;32m    141\u001b[0m         \u001b[0;32mif\u001b[0m \u001b[0mname\u001b[0m\u001b[0;34m:\u001b[0m\u001b[0;34m\u001b[0m\u001b[0;34m\u001b[0m\u001b[0m\n\u001b[0;32m--> 142\u001b[0;31m             \u001b[0mself\u001b[0m\u001b[0;34m.\u001b[0m\u001b[0m__name\u001b[0m \u001b[0;34m=\u001b[0m \u001b[0mstr\u001b[0m\u001b[0;34m(\u001b[0m\u001b[0mname\u001b[0m\u001b[0;34m)\u001b[0m\u001b[0;34m.\u001b[0m\u001b[0mtranslate\u001b[0m\u001b[0;34m(\u001b[0m\u001b[0mself\u001b[0m\u001b[0;34m.\u001b[0m\u001b[0mtrans\u001b[0m\u001b[0;34m)\u001b[0m\u001b[0;34m\u001b[0m\u001b[0;34m\u001b[0m\u001b[0m\n\u001b[0m\u001b[1;32m    143\u001b[0m         \u001b[0;32melse\u001b[0m\u001b[0;34m:\u001b[0m\u001b[0;34m\u001b[0m\u001b[0;34m\u001b[0m\u001b[0m\n\u001b[1;32m    144\u001b[0m             \u001b[0mself\u001b[0m\u001b[0;34m.\u001b[0m\u001b[0m__name\u001b[0m \u001b[0;34m=\u001b[0m \u001b[0;32mNone\u001b[0m\u001b[0;34m\u001b[0m\u001b[0;34m\u001b[0m\u001b[0m\n",
            "\u001b[0;31mKeyboardInterrupt\u001b[0m: "
          ]
        }
      ]
    },
    {
      "cell_type": "code",
      "metadata": {
        "id": "8_kKxXbA4hL1",
        "colab_type": "code",
        "colab": {
          "base_uri": "https://localhost:8080/",
          "height": 34
        },
        "outputId": "3e8aafc0-3cd0-448f-a17a-f90ebd9f5b20"
      },
      "source": [
        "# define summation\n",
        "def summation(terms):\n",
        "  \"\"\"\n",
        "  return a usable sum of `terms` where coefficients are 1\n",
        "  \"\"\"\n",
        "  total = LpAffineExpression({t: 1 for t in terms})\n",
        "  return total\n",
        "\n",
        "def summation_test():\n",
        "  test_1 = LpVariable(\"Test_1\", lowBound = 0, upBound = 1, cat=\"Integer\")\n",
        "  test_2 = LpVariable(\"Test_2\", lowBound = 0, upBound = 1, cat=\"Integer\")\n",
        "  test_3 = LpVariable(\"Test_3\", lowBound = 0, upBound = 1, cat=\"Integer\")\n",
        "  if str(summation([test_1, test_2, test_3])) == \"Test_1 + Test_2 + Test_3\":\n",
        "    print(\"Summation test passed.\")\n",
        "  else:\n",
        "    print(\"Summation test failed.\")\n",
        "\n",
        "def power(base, term):\n",
        "  expression = LpAffineExpression(term)\n",
        "  for i in range(base):\n",
        "    expression *= term\n",
        "  return expression\n",
        "\n",
        "def summation_of_exponential(base, terms):\n",
        "  total = LpAffineExpression({power(base, t) : 1 for t in terms})\n",
        "  return total\n",
        "\n",
        "summation_test()"
      ],
      "execution_count": null,
      "outputs": [
        {
          "output_type": "stream",
          "text": [
            "Summation test passed.\n"
          ],
          "name": "stdout"
        }
      ]
    },
    {
      "cell_type": "code",
      "metadata": {
        "id": "CjY9JuIDyOom",
        "colab_type": "code",
        "colab": {}
      },
      "source": [
        "total_teaching_vector = []\n",
        "for teacher, schedule in enumerate(teacher_schedules):\n",
        "  unrolled_schedule = []\n",
        "  for p in schedule:\n",
        "    for c in p:\n",
        "      unrolled_schedule.append(c)\n",
        "  total_teaching = summation(unrolled_schedule)\n",
        "  total_teaching_vector.append(total_teaching)\n",
        "#problem += summation_of_exponential(1000, total_teaching_vector)"
      ],
      "execution_count": null,
      "outputs": []
    },
    {
      "cell_type": "code",
      "metadata": {
        "id": "_JixsXPg6iLr",
        "colab_type": "code",
        "colab": {}
      },
      "source": [
        "# define constraints\n",
        "\n",
        "for student, requests in enumerate(student_request_vectors):\n",
        "  schedule = student_schedules[student]\n",
        "\n",
        "  ## Each requested course must appear exactly once. Unrequested courses must not appear. ##\n",
        "  # Take the sum of the slice of the schedule that represents that course (at all periods).\n",
        "  # If they requested the course, requested is 1. Otherwise, it's 0. The sum should equal 1\n",
        "  # if they requested it (meaning they are assigned the course once) and 0 if they didn't.\n",
        "  # Furthermore, requested will never be greater than 1, thus a course will never be assigned more\n",
        "  # than once.\n",
        "  for course, requested in enumerate(requests):\n",
        "    problem += summation(schedule[:, course]) == requested\n",
        "\n",
        "  ## Each period must have 0 or 1 classes assigned to it, no more. ##\n",
        "  # The sum of the slice of the schedule at every period must be 0 or 1, meaning they must not\n",
        "  # be assigned more than 1 section per period.\n",
        "  for period in schedule:\n",
        "    problem += (summation(period) <= 1)\n",
        "\n",
        "for teacher, qualifications in enumerate(teacher_qualification_vectors):\n",
        "  schedule = teacher_schedules[teacher]\n",
        "\n",
        "  ## Courses that they are unqualified to teach must not be taught by them. ##\n",
        "  # This is almost the exact same as the constraint with student requests. Scroll up (line 6)\n",
        "  # for explanation.\n",
        "  for course, qualified in enumerate(teacher_qualification_vectors[teacher]):\n",
        "    problem += summation(schedule[:, course]) <= qualified\n",
        "  \n",
        "  ## Each period must have 0 or 1 classes assigned to it, no more. ##\n",
        "  # This is the same as it is for students. Scroll up (line 15) for explanation\n",
        "  for period in schedule:\n",
        "    problem += summation(period) <= 1\n",
        "\n",
        "## Each student's section must have a teacher. ##\n",
        "# This constraint should not be handled by the classes.\n",
        "# Each variable in a student's schedule represents whether they are assigned\n",
        "# to a specific section.\n",
        "for student, s_schedule in enumerate(student_schedules):\n",
        "  for period, classes_at_period in enumerate(s_schedule):\n",
        "    for class_id, attending in enumerate(classes_at_period):\n",
        "      # get corresponding qualified teacher variables\n",
        "      teacher_assignment_variables = []\n",
        "      for teacher, t_schedule in enumerate(teacher_schedules):\n",
        "        if teacher_qualification_vectors[teacher][class_id] == 1:\n",
        "          teacher_assignment_variables.append(t_schedule[period, class_id])\n",
        "      problem += summation(teacher_assignment_variables) >= attending"
      ],
      "execution_count": null,
      "outputs": []
    },
    {
      "cell_type": "code",
      "metadata": {
        "id": "x5uVCiSvvUj3",
        "colab_type": "code",
        "colab": {
          "base_uri": "https://localhost:8080/",
          "height": 191
        },
        "outputId": "fa7a4638-066c-45f0-e57e-fe506b3a317a"
      },
      "source": [
        "# display solution\n",
        "print(problem.constraints)\n",
        "status = problem.solve()\n",
        "print(f\"Solution is {LpStatus[status]}\\n\")"
      ],
      "execution_count": null,
      "outputs": [
        {
          "output_type": "stream",
          "text": [
            "IOPub data rate exceeded.\n",
            "The notebook server will temporarily stop sending output\n",
            "to the client in order to avoid crashing it.\n",
            "To change this limit, set the config variable\n",
            "`--NotebookApp.iopub_data_rate_limit`.\n",
            "\n",
            "Current values:\n",
            "NotebookApp.iopub_data_rate_limit=1000000.0 (bytes/sec)\n",
            "NotebookApp.rate_limit_window=3.0 (secs)\n",
            "\n"
          ],
          "name": "stderr"
        }
      ]
    },
    {
      "cell_type": "code",
      "metadata": {
        "id": "q7Kh4MyeFWkU",
        "colab_type": "code",
        "colab": {}
      },
      "source": [
        "class Class:\n",
        "  def __init__(self, course_id, period):\n",
        "    self.period = period\n",
        "    self.course_id = course_id\n",
        "    self.students = []\n",
        "\n",
        "    self.teacher = None\n",
        "\n",
        "  def __eq__(self, other):\n",
        "    return (self.period == other.period) and (self.course_id == other.course_id)\n",
        "\n",
        "  def __str__(self):\n",
        "    return f\"P.{self.period} {self.course_id} with students {self.students} taught by {self.teacher}\"\n",
        "\n",
        "classes = []\n",
        "for student, schedule in enumerate(student_schedules):\n",
        "  for period in schedule:\n",
        "    for c in period:\n",
        "      if value(c) == 1:\n",
        "        # parse variable name\n",
        "        all_tokens = str(c).split(\"_\")\n",
        "        int_tokens = []\n",
        "        for t in all_tokens:\n",
        "          try:\n",
        "            int_tokens.append(int(t))\n",
        "          except ValueError:\n",
        "            pass\n",
        "        \n",
        "        new_class = Class(int_tokens[1], int_tokens[2])\n",
        "\n",
        "        for existing_class in classes:\n",
        "          if new_class == existing_class:\n",
        "            break\n",
        "        else:\n",
        "          new_class.students.append(int_tokens[0])\n",
        "          classes.append(new_class)\n",
        "          continue\n",
        "\n",
        "        existing_class.students.append(int_tokens[0])\n",
        "\n",
        "for teacher, schedule in enumerate(teacher_schedules):\n",
        "  for period in schedule:\n",
        "    for c in period:\n",
        "      if value(c) == 1:\n",
        "        # parse variable name\n",
        "        all_tokens = str(c).split(\"_\")\n",
        "        int_tokens = []\n",
        "        for t in all_tokens:\n",
        "          try:\n",
        "            int_tokens.append(int(t))\n",
        "          except ValueError:\n",
        "            pass\n",
        "        \n",
        "        new_class = Class(int_tokens[1], int_tokens[2])\n",
        "\n",
        "        for existing_class in classes:\n",
        "          if new_class == existing_class:\n",
        "            break\n",
        "        else:\n",
        "          classes.append(new_class)\n",
        "          continue\n",
        "\n",
        "        existing_class.teacher = int_tokens[0]\n",
        "\n",
        "# output classes by period\n",
        "last_period_displayed = None\n",
        "for existing_class in sorted(classes, key=lambda c: c.period):\n",
        "  if existing_class.period != last_period_displayed:\n",
        "    print()\n",
        "  print(existing_class)\n",
        "  last_period_displayed = existing_class.period"
      ],
      "execution_count": null,
      "outputs": []
    },
    {
      "cell_type": "code",
      "metadata": {
        "id": "HvyX0chzxPJG",
        "colab_type": "code",
        "colab": {}
      },
      "source": [
        "counts = [1, 2, 3, 4]\n",
        "avg = sum(counts) / 4\n",
        "deviations = [abs(avg - c) for c in counts]\n",
        "avg_dev = sum(deviations) / 4\n",
        "print(avg_dev)\n",
        "\n",
        "counts = [1, 3, 3, 3]\n",
        "avg = sum(counts) / 4\n",
        "deviations = [abs(avg - c) for c in counts]\n",
        "avg_dev = sum(deviations) / 4\n",
        "print(avg_dev)\n",
        "\n",
        "# won't work since abs isn't linear"
      ],
      "execution_count": null,
      "outputs": []
    }
  ]
}